{
 "cells": [
  {
   "cell_type": "markdown",
   "id": "a6ba0f06-efd8-468a-82b6-3411ac17ed3e",
   "metadata": {},
   "source": [
    "# Лекция 3\n",
    "\n",
    "## Обуение нейронных сетей"
   ]
  },
  {
   "cell_type": "code",
   "execution_count": 1,
   "id": "0fd6ea64-1093-4f73-93b5-6223fbccafdf",
   "metadata": {},
   "outputs": [],
   "source": [
    "import torch\n",
    "import torchvision\n",
    "from torchvision import transforms"
   ]
  },
  {
   "cell_type": "code",
   "execution_count": 2,
   "id": "ccbf1818-4096-43e9-a856-083c1972bd88",
   "metadata": {},
   "outputs": [],
   "source": [
    "from torch.utils.data import DataLoader, TensorDataset"
   ]
  },
  {
   "cell_type": "markdown",
   "id": "ceb84e46-766b-4034-9621-1273fa775100",
   "metadata": {},
   "source": [
    "### Нормировки\n",
    "\n",
    "- установка общего масштаба перед обучением сетей"
   ]
  },
  {
   "cell_type": "code",
   "execution_count": 3,
   "id": "1c364ca8-791f-4307-9a6e-6e20193c660f",
   "metadata": {},
   "outputs": [
    {
     "data": {
      "text/plain": [
       "Normalize(mean=0.28600001335144043, std=0.3529999852180481)"
      ]
     },
     "execution_count": 3,
     "metadata": {},
     "output_type": "execute_result"
    }
   ],
   "source": [
    "transforms.Normalize(torch.tensor(0.286), torch.tensor(0.353))"
   ]
  },
  {
   "cell_type": "markdown",
   "id": "813517b3-22e3-4328-ad0f-6fb3596507b7",
   "metadata": {},
   "source": [
    "- убрать симметрию для корректности весов нейронов\n",
    "- убрать близость значений к 0 или 1\n",
    "- одинаковая дисперсия, чтобы нейроны были __одинаковы__ с точки зрения интерпретации\n",
    "\n",
    "Разные функции активации по-разному получают дисперсию градиентов(плохо - Sigmoid, ReLU - лучше).\n",
    "\n",
    "Разные способы инициаллизации:\n",
    "- домножение слева на матрицу в предположении НОРСВ начальных весов позволяет сохранить дисперсию(Рановмерная инициаллизация Ксавеьера)\n",
    "- Для ReLU можно добиться аналогичного нормальными значениями w"
   ]
  },
  {
   "cell_type": "code",
   "execution_count": 4,
   "id": "7548aafe-f76d-4ba6-8bec-32d2b7804e12",
   "metadata": {},
   "outputs": [],
   "source": [
    "from torch import nn"
   ]
  },
  {
   "cell_type": "code",
   "execution_count": 5,
   "id": "2f7aa47e-c9b7-4ad7-8a72-2cc0db50ac49",
   "metadata": {},
   "outputs": [
    {
     "data": {
      "text/plain": [
       "(tensor([[ 2.1235, -0.5777,  0.8965, -1.0561, -0.0611],\n",
       "         [ 1.5458,  0.1807, -2.3971,  0.2327,  1.1289],\n",
       "         [-1.2762,  0.3694, -0.4832,  1.0605,  1.1093]]),\n",
       " tensor([[ 2.1235, -0.5777,  0.8965, -1.0561, -0.0611],\n",
       "         [ 1.5458,  0.1807, -2.3971,  0.2327,  1.1289],\n",
       "         [-1.2762,  0.3694, -0.4832,  1.0605,  1.1093]]))"
      ]
     },
     "execution_count": 5,
     "metadata": {},
     "output_type": "execute_result"
    }
   ],
   "source": [
    "w = torch.empty(3, 5)\n",
    "\n",
    "nn.init.uniform_(w, a=0.0, b=1.0), nn.init.normal_(w, mean=0.0, std=1.0)"
   ]
  },
  {
   "cell_type": "code",
   "execution_count": 6,
   "id": "9d88d709-6831-49c9-be83-c8bc4e510400",
   "metadata": {},
   "outputs": [
    {
     "data": {
      "text/plain": [
       "tensor([[0.3000, 0.3000, 0.3000, 0.3000, 0.3000],\n",
       "        [0.3000, 0.3000, 0.3000, 0.3000, 0.3000],\n",
       "        [0.3000, 0.3000, 0.3000, 0.3000, 0.3000]])"
      ]
     },
     "execution_count": 6,
     "metadata": {},
     "output_type": "execute_result"
    }
   ],
   "source": [
    "nn.init.constant_(w, val=0.3)"
   ]
  },
  {
   "cell_type": "code",
   "execution_count": 7,
   "id": "3201768e-f99f-46b6-a7d0-9815b08b6909",
   "metadata": {},
   "outputs": [
    {
     "data": {
      "text/plain": [
       "tensor([[1., 0., 0., 0., 0.],\n",
       "        [0., 1., 0., 0., 0.],\n",
       "        [0., 0., 1., 0., 0.]])"
      ]
     },
     "execution_count": 7,
     "metadata": {},
     "output_type": "execute_result"
    }
   ],
   "source": [
    "nn.init.eye_(w)"
   ]
  },
  {
   "cell_type": "markdown",
   "id": "379ee264-b70b-486c-a0e1-a5fe1a74c4e6",
   "metadata": {},
   "source": [
    "### Улучшение обучения\n",
    "\n",
    "Методы, чтобы избежать переобучение:\n",
    "- EarlyStopping(признаки переобучения => stop)\n",
    "- mini-batches:\n",
    "    - распараллеливание ускоряет обучение(меньше градиентов в ОП)\n",
    "    - меньше случайности в градиентов(не SGD)\n",
    "    - __Но доказательства об улучшениии сходимости нет__\n",
    "\n",
    "__Эпоха__ - проход по всей обучающей выборке(все батчи пройти 1 раз)\n",
    "\n",
    "- для обучения лучше, если линии уровня функционала ошибки - концентрицеские окружности\n",
    "\n",
    "Методы для достижения этого качества:\n",
    "- __Momentum__: $m^{t+1}=\\rho m^t+\\nabla L^t(w^t); w^{t+1}=w^t-\\eta m^{t+1}$\n",
    "    - Инерция помогает избежать локальных экстремумов и попасть в глобальные\n",
    "- __м.Нестерова__: $m^{t+1}=\\rho m^t+\\nabla L^t(w^t-\\eta m^t); w^{t+1}=w^t-\\eta m^{t+1}$\n",
    "- __Инерция помогает__:\n",
    "    - когда линии уровня похожи на прямые\n",
    "    - проскакивать седловые точки\n",
    "- __Adagrad__: накапливание квадратов градиентов(чем больше градиенты, тем медленнее шаг) $v_i^{t+1}=v_i^t+(\\nabla_i L^t(w^t))^2; w^{t+1}=w^t-\\frac{\\eta}{\\sqrt{v_i^{t+1}+\\epsilon}} m^{t+1}$\n",
    "- __RMSprop__: добавление скользящего среднего к квадратам градиентов, регулируем влияние на скорость при росте градиентов;\n",
    "- __Adam__: смесь RMSprop, Инерции и скользящего среднего. Добавляем кроме инерции параметр нормировки, его так же обновляем, влияем на шаг;\n",
    "- __AdamW__: добавление слагаемого в обновлении весов(__?__)"
   ]
  },
  {
   "cell_type": "code",
   "execution_count": 8,
   "id": "2d624a03-8980-44dc-a8cc-667af984c05f",
   "metadata": {},
   "outputs": [],
   "source": [
    "class Net(nn.Module):\n",
    "    def __init__(self):\n",
    "        super().__init__()\n",
    "        self.fc = nn.Linear(2, 1)\n",
    "        \n",
    "    def forward(self, x):\n",
    "        x = x.type(torch.FloatTensor)\n",
    "        return self.fc(x)\n",
    "\n",
    "model = Net()\n",
    "\n",
    "X_ds = TensorDataset(torch.randint(high=10, size=(10, 2)),\n",
    "                    torch.randint(high=10, size=(10, 1)))\n",
    "X_dl = DataLoader(X_ds, batch_size=2, shuffle=True)\n",
    "\n",
    "optimizer = torch.optim.Adam(model.parameters(),\n",
    "                            lr=0.001,\n",
    "                            betas=(0.9, 0.999),\n",
    "                            eps=1e-08,\n",
    "                            weight_decay=0,\n",
    "                            amsgrad=False)\n",
    "\n",
    "for input, target in X_ds:\n",
    "    optimizer.zero_grad()\n",
    "    out = model(input)\n",
    "    loss = (out-target)**2\n",
    "    loss.backward()\n",
    "    optimizer.step() # Обновление весов"
   ]
  },
  {
   "cell_type": "markdown",
   "id": "e93ea440-451a-4d7d-a9dc-33853ca63233",
   "metadata": {},
   "source": [
    "### Регуляризация(weight decay)\n",
    "\n",
    "`torch.optim.SGD(..., weight_decay=0)`\n",
    "\n",
    "__Weight decay__ - $\\lambda$ регуляризатор для обновления весов нейронных сетей.\n",
    "- чаще L2-регуляризация не нужно применять(другие методы лучше)\n",
    "\n",
    "- __Dropout__: с вероятностью __p__ занюляются веса(выходы сети), тогда обучается часть сети, причем каждый раз разные фаргменты.\n",
    "    - когда тестируется сеть, результат домножается на __(1-p)__, т.к. иначе будет слишком большое значение(научена сеть на другие результаты)\n",
    "    - обоснования через __ансамбли__, __bayes__, __аугментация__, __робастность__\n",
    "    - можно проверять уверенность сети после dropout через дисперсию результатов\n",
    "    - __рецептивное поле__ нейронов улучшается через dropout\n",
    "- __Inverted Dropout__: $y=\\frac{1}{1-p}f(...)$, на тесте же $y = f(...)$\n",
    "- __DropConnect__: удаляем сети, а не веса(домножаем на матрицу)"
   ]
  },
  {
   "cell_type": "markdown",
   "id": "4765d3c5-c1c7-4575-904e-f55576e849d6",
   "metadata": {},
   "source": [
    "### Обрезка градиентов\n",
    "\n",
    "- реуглировать длину шага в процессе обучения сети"
   ]
  },
  {
   "cell_type": "code",
   "execution_count": 9,
   "id": "38a75dc6-d484-4c5e-8da5-b7af122c7141",
   "metadata": {},
   "outputs": [
    {
     "data": {
      "text/plain": [
       "tensor(0.)"
      ]
     },
     "execution_count": 9,
     "metadata": {},
     "output_type": "execute_result"
    }
   ],
   "source": [
    "optimizer.zero_grad()\n",
    "\n",
    "torch.nn.utils.clip_grad_norm_(model.parameters(), 200)"
   ]
  },
  {
   "cell_type": "markdown",
   "id": "1589b1c7-fb1e-4c78-99de-fcef34f61ed2",
   "metadata": {},
   "source": [
    "### Батч-нормализация\n",
    "\n",
    "- решает проблему __Covariate shift__:\n",
    "    1. на каждой итерации меняем $w_{i, j}$;\n",
    "    2. тогда меняются и значения предыдущих связей;\n",
    "    3. изменение считалось из расчета известного маршрута для заданных весов;\n",
    "    4. тогда вредят изменения весов - __проблема изменения распределения входов во время обучения__\n",
    "    - Решение:\n",
    "        1. Считаем статистики(среднего и дисперсии по мини-батчу - __статистики по обучающей выборке, не по текущим результатам(на случай теста)__);\n",
    "        2. Нормируем данные и преводим к \"нормальному\" => __избегаем смещения__;\n",
    "        3. Чтобы сохранить исходные распределения, домножим и сместим, введем эти параметры, тогда избегаем проблемы распределений.\n",
    "    - Когда применять?\n",
    "        - до слоев, после слоев, где угодно...\n",
    "        - __в предыдущем линейном слое нужно отключить смещение(формула нормализации)__\n",
    "    - Если используется BN, то лучше убрать Dropout, уменьшить регуляризацию, усложнить сеть;\n",
    "    - Можно удалить из сети, изменив следующие слои."
   ]
  },
  {
   "cell_type": "code",
   "execution_count": 10,
   "id": "37417ef8-6e92-4e2a-b837-7ff61e713190",
   "metadata": {},
   "outputs": [
    {
     "data": {
      "text/plain": [
       "(BatchNorm1d(10, eps=1e-05, momentum=0.1, affine=True, track_running_stats=True),\n",
       " Dropout(p=0.1, inplace=True))"
      ]
     },
     "execution_count": 10,
     "metadata": {},
     "output_type": "execute_result"
    }
   ],
   "source": [
    "bn = nn.BatchNorm1d(10, eps=1e-5, momentum=0.1, affine=True, track_running_stats=True)\n",
    "\n",
    "dp = nn.Dropout(p=0.1, inplace=True)\n",
    "\n",
    "bn, dp"
   ]
  },
  {
   "cell_type": "code",
   "execution_count": 11,
   "id": "41e72650-9f89-41aa-8c7e-6d2ed7c16cd1",
   "metadata": {},
   "outputs": [
    {
     "data": {
      "text/plain": [
       "(tensor([[ 1.,  2.,  3.,  4.],\n",
       "         [ 5.,  6.,  7.,  8.],\n",
       "         [ 9., 10., 11., 12.],\n",
       "         [13., 14., 15., 16.]]),\n",
       " tensor([[ 0.,  4.,  6.,  8.],\n",
       "         [10.,  0., 14.,  0.],\n",
       "         [18., 20.,  0.,  0.],\n",
       "         [ 0.,  0.,  0.,  0.]]))"
      ]
     },
     "execution_count": 11,
     "metadata": {},
     "output_type": "execute_result"
    }
   ],
   "source": [
    "H = torch.arange(1, 17).reshape(4, 4).float()\n",
    "\n",
    "drop = nn.Dropout(p=0.5)\n",
    "\n",
    "H, drop(H)"
   ]
  },
  {
   "cell_type": "code",
   "execution_count": 12,
   "id": "c9d336dd-6011-4353-9878-bc848b5b27ba",
   "metadata": {},
   "outputs": [
    {
     "data": {
      "text/plain": [
       "tensor([[-1.3416, -1.3416, -1.3416, -1.3416],\n",
       "        [-0.4472, -0.4472, -0.4472, -0.4472],\n",
       "        [ 0.4472,  0.4472,  0.4472,  0.4472],\n",
       "        [ 1.3416,  1.3416,  1.3416,  1.3416]])"
      ]
     },
     "execution_count": 12,
     "metadata": {},
     "output_type": "execute_result"
    }
   ],
   "source": [
    "bn = nn.BatchNorm1d(4, affine=False)\n",
    "\n",
    "bn(H)"
   ]
  },
  {
   "cell_type": "markdown",
   "id": "bc0321e6-4061-43d9-b01b-be5da1c14910",
   "metadata": {},
   "source": [
    "### Аугментация данных\n",
    "\n",
    "> Данные первичны, алгоритмы вторичны\n",
    "\n",
    "- увеличение обучающей выборки используя преобразования, не меняющие характеристики объекта, при том не совпадающие с имеющимися\n",
    "- __mixup__\n",
    "- __cutout__\n",
    "- __cutmix__"
   ]
  },
  {
   "cell_type": "code",
   "execution_count": 13,
   "id": "56e58d3a-b28b-43f6-8d9e-c78f3ea1c93c",
   "metadata": {},
   "outputs": [],
   "source": [
    "import torchvision"
   ]
  },
  {
   "cell_type": "code",
   "execution_count": 14,
   "id": "8bcbb915-96be-4150-aea0-46757c135ad6",
   "metadata": {},
   "outputs": [],
   "source": [
    "augmentations = transforms.Compose([\n",
    "    transforms.Resize((224, 224)),\n",
    "    transforms.ColorJitter(hue=.05, saturation=.05),\n",
    "])"
   ]
  },
  {
   "cell_type": "markdown",
   "id": "b70576fd-69ec-4513-86b7-7c83cce4c6e7",
   "metadata": {},
   "source": [
    "## Ансамблирование\n",
    "\n",
    "- классическое ансамблирование(долго обучать, больше времени на inference)\n",
    "- усреднение весов\n",
    "- усреднение на разных эпохах(запоминают состояния, когда меняют lr)"
   ]
  },
  {
   "cell_type": "markdown",
   "id": "ca2d19ed-8436-4766-9dd1-8840ca7e6d87",
   "metadata": {},
   "source": [
    "## Проблемы НС\n",
    "\n",
    "- численное сравнение производных и линейных интерполяций\n",
    "- визуализация карты признаков и удаление попхожести\n",
    "- данные(синтетическое изменение, проверка результатов)\n",
    "- __lr__\n",
    "\n",
    "Во время обучения:\n",
    "- гистограммы весов;\n",
    "- нормы градиентов;\n",
    "- время обучения итераций\n",
    "\n",
    "Пример:\n",
    "- синтезировать голос:\n",
    "    - обучений 1.5 дня;\n",
    "    - через какое-то время должны начать прослеживаться _адекватные_ паттерны\n",
    "    \n",
    "lr:\n",
    "- глубже сеть - меньше lr;\n",
    "- меньше батч - меньше темп\n",
    "- трансформеры - `1e-5`\n",
    "\n",
    "- lr_scheduler"
   ]
  },
  {
   "cell_type": "code",
   "execution_count": 15,
   "id": "1233f4da-ce8d-43fe-834f-0d17a7c70e33",
   "metadata": {},
   "outputs": [],
   "source": [
    "model = nn.Linear(2, 1)\n",
    "optimizer = torch.optim.SGD(model.parameters(), lr=100)\n",
    "scheduler = torch.optim.lr_scheduler.StepLR(optimizer, step_size=2, gamma=0.1)\n",
    "lrs = []\n",
    "\n",
    "for i in range(10):\n",
    "    optimizer.step()\n",
    "    lrs.append(optimizer.param_groups[0][\"lr\"])\n",
    "    scheduler.step()"
   ]
  },
  {
   "cell_type": "code",
   "execution_count": 16,
   "id": "462816b8-12de-410e-8a37-cc446b5feac4",
   "metadata": {},
   "outputs": [],
   "source": [
    "from matplotlib import pyplot as plt"
   ]
  },
  {
   "cell_type": "code",
   "execution_count": 17,
   "id": "bbd3f609-a08b-49f1-bc9c-20fafa89aa5c",
   "metadata": {},
   "outputs": [
    {
     "data": {
      "text/plain": [
       "[<matplotlib.lines.Line2D at 0x12b290190>]"
      ]
     },
     "execution_count": 17,
     "metadata": {},
     "output_type": "execute_result"
    },
    {
     "data": {
      "image/png": "[encoded data removed]",
      "text/plain": [
       "<Figure size 432x288 with 1 Axes>"
      ]
     },
     "metadata": {
      "needs_background": "light"
     },
     "output_type": "display_data"
    }
   ],
   "source": [
    "plt.plot(lrs, range(10))"
   ]
  },
  {
   "cell_type": "markdown",
   "id": "6f968949-846a-46ff-994c-5361ea0bd675",
   "metadata": {},
   "source": [
    "## Transfer Learning\n",
    "\n",
    "- замораживаем веса сети и дообучаем только фрагменты сети"
   ]
  },
  {
   "cell_type": "markdown",
   "id": "c6c74bd0-a483-454f-9527-82fc6d9b6b82",
   "metadata": {},
   "source": [
    "## Оптимизация гиперпараметров\n",
    "\n",
    "- перебор по сетке\n",
    "- __[DL]__ перебор по оптимизированной сетке(случайность, байесовские оптимизации и тд)"
   ]
  },
  {
   "cell_type": "code",
   "execution_count": null,
   "id": "f916b51d-7fb8-4bc0-9ed9-147476856083",
   "metadata": {},
   "outputs": [],
   "source": []
  }
 ],
 "metadata": {
  "kernelspec": {
   "display_name": "Python 3 (ipykernel)",
   "language": "python",
   "name": "python3"
  },
  "language_info": {
   "codemirror_mode": {
    "name": "ipython",
    "version": 3
   },
   "file_extension": ".py",
   "mimetype": "text/x-python",
   "name": "python",
   "nbconvert_exporter": "python",
   "pygments_lexer": "ipython3",
   "version": "3.9.14"
  }
 },
 "nbformat": 4,
 "nbformat_minor": 5
}
