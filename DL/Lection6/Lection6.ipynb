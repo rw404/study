{
 "cells": [
  {
   "cell_type": "markdown",
   "metadata": {},
   "source": [
    "# Лекция №6"
   ]
  },
  {
   "cell_type": "code",
   "execution_count": 1,
   "metadata": {},
   "outputs": [],
   "source": [
    "from torch import nn"
   ]
  },
  {
   "cell_type": "markdown",
   "metadata": {},
   "source": [
    "__Сегментация__ - определение принадлежности каждого пикселя определенному объекту изображения.\n",
    "\n",
    "Сегментация - классификация пикселей.\n",
    "\n",
    "Наивный подход:\n",
    "- Брать окрестность и получать вероятность принадлежности пикселя объекту:\n",
    "  - долго работает;\n",
    "  - не учитывает глобального контекста.\n",
    "\n",
    "Дополнительные трансформации в задаче сегментации:\n",
    "- Elastic transform(пространственное искажение изображения);\n",
    "\n",
    "Другой подход - __кластеризация__(иерархическая, например):\n",
    "- _энергетический_ подход - каждому пикселю ставятся веса в соответствие, чтобы получить разделение поля на независимые области."
   ]
  },
  {
   "cell_type": "markdown",
   "metadata": {},
   "source": [
    "Последоательное применение:\n",
    "1. Нейросетевая классификация объектов на фотографии;\n",
    "2. Условно случайные поля уточняли сегментацию объектов.\n",
    "\n",
    "Для DL сегментации нужны обратные операции свертки и пулинга для сохранения размеров изображения.\n",
    "\n",
    "__ConvTranspose2d__ - каждый элемент входного изображения умножаем на фильтр(ядро) и заполняем соответствующий фаргмент результата, затем суммируем результаты:\n",
    "- Проблемы:\n",
    "  - _Шахматные_ эффекты - при суммировании в некоторых фрагментах больше элементов в сумме, чем в других, поэтому эффект шахматной доски.\n",
    "  - Предотвратить можно, если применить потом увеличение размеров и свертку."
   ]
  },
  {
   "cell_type": "markdown",
   "metadata": {},
   "source": [
    "## Fully convolutional networks\n",
    "\n",
    "- Применяем свертки до тензоров;\n",
    "- Затем увеличиваем их размеры;\n",
    "- Тогда от задачи классификации можно получить черновое предположение о структуре изображения(сегментации).\n",
    "- Чем больше пробрасываний связей, тем точнее результат сегментации."
   ]
  },
  {
   "cell_type": "markdown",
   "metadata": {},
   "source": [
    "## Unet\n",
    "\n",
    "- Сворачивание результата до тензора;\n",
    "- Апскейл и связь для сегментации;"
   ]
  },
  {
   "cell_type": "code",
   "execution_count": 2,
   "metadata": {},
   "outputs": [],
   "source": [
    "class DoubleConv(nn.Module):\n",
    "    \"\"\"(convolution => [BN] => ReLU) * 2\"\"\"\n",
    "    def __init__(self, in_channels, out_channels, mid_channels=None):\n",
    "        super().__init__()\n",
    "        if not mid_channels:\n",
    "            mid_channels = out_channels\n",
    "        self.double_conv = nn.Sequential(\n",
    "            nn.Conv2d(in_channels, mid_channels,\n",
    "                kernel_size=3, padding=1),\n",
    "            nn.BatchNorm2d(mid_channels),\n",
    "            nn.ReLU(inplace=True),\n",
    "            nn.Conv2d(mid_channels, out_channels,\n",
    "                kernel_size=3, padding=1),\n",
    "            nn.BatchNorm2d(out_channels),\n",
    "            nn.ReLU(inplace=True)\n",
    "            )\n",
    "    def forward(self, x):\n",
    "        return self.double_conv(x)\n",
    "      \n",
    "class Down(nn.Module):\n",
    "    \"\"\"Downscaling with maxpool then double conv\"\"\"\n",
    "    def __init__(self, in_channels, out_channels):\n",
    "        super().__init__()\n",
    "        self.maxpool_conv = nn.Sequential(\n",
    "                                nn.MaxPool2d(2),\n",
    "                                DoubleConv(in_channels,\n",
    "                                            out_channels))\n",
    "    def forward(self, x):\n",
    "        return self.maxpool_conv(x)"
   ]
  },
  {
   "cell_type": "code",
   "execution_count": 3,
   "metadata": {},
   "outputs": [],
   "source": [
    "class Up(nn.Module):\n",
    "    \"\"\"Upscaling then double conv\"\"\"\n",
    "    def __init__(self, in_channels, out_channels, bilinear=True):\n",
    "        super().__init__()\n",
    "        # if bilinear, use the normal convolutions to reduce the number of channels\n",
    "        if bilinear:\n",
    "            self.up = nn.Upsample(scale_factor=2, mode='bilinear', align_corners=True)\n",
    "            self.conv = DoubleConv(in_channels, out_channels, in_channels // 2)\n",
    "        else:\n",
    "            self.up = nn.ConvTranspose2d(in_channels , in_channels // 2, kernel_size=2, stride=2)\n",
    "            self.conv = DoubleConv(in_channels, out_channels)\n",
    "    def forward(self, x1, x2):\n",
    "        x1 = self.up(x1)\n",
    "        # input is CHW\n",
    "        diffY = x2.size()[2] - x1.size()[2]\n",
    "        diffX = x2.size()[3] - x1.size()[3]\n",
    "        x1 = F.pad(x1, [diffX // 2, diffX - diffX // 2,\n",
    "        diffY // 2, diffY - diffY // 2])\n",
    "        x = torch.cat([x2, x1], dim=1)\n",
    "        return self.conv(x)\n",
    "class OutConv(nn.Module):\n",
    "    def __init__(self, in_channels, out_channels):\n",
    "        super(OutConv, self).__init__()\n",
    "        self.conv = nn.Conv2d(in_channels, out_channels, kernel_size=1)\n",
    "    def forward(self, x):\n",
    "        return self.conv(x)"
   ]
  },
  {
   "cell_type": "code",
   "execution_count": 4,
   "metadata": {},
   "outputs": [],
   "source": [
    "import torch.nn.functional as F\n",
    "class UNet(nn.Module):\n",
    "    def __init__(self, n_channels,\n",
    "        n_classes, bilinear=True):\n",
    "        super(UNet, self).__init__()\n",
    "        self.n_channels = n_channels\n",
    "        self.n_classes = n_classes\n",
    "        self.bilinear = bilinear\n",
    "        self.inc = DoubleConv(n_channels, 64)\n",
    "        self.down1 = Down(64, 128)\n",
    "        self.down2 = Down(128, 256)\n",
    "        self.down3 = Down(256, 512)\n",
    "        factor = 2 if bilinear else 1\n",
    "        self.down4 = Down(512, 1024 // factor)\n",
    "        self.up1 = Up(1024, 512 // factor, bilinear)\n",
    "        self.up2 = Up(512, 256 // factor, bilinear)\n",
    "        self.up3 = Up(256, 128 // factor, bilinear)\n",
    "        self.up4 = Up(128, 64, bilinear)\n",
    "        self.outc = OutConv(64, n_classes)\n",
    "    def forward(self, x):\n",
    "        x1 = self.inc(x)\n",
    "        x2 = self.down1(x1)\n",
    "        x3 = self.down2(x2)\n",
    "        x4 = self.down3(x3)\n",
    "        x5 = self.down4(x4)\n",
    "        x = self.up1(x5, x4)\n",
    "        x = self.up2(x, x3)\n",
    "        x = self.up3(x, x2)\n",
    "        x = self.up4(x, x1)\n",
    "        logits = self.outc(x)\n",
    "        return logits"
   ]
  },
  {
   "cell_type": "markdown",
   "metadata": {},
   "source": [
    "## Тирамису сеть\n",
    "\n",
    "- добавляет DB-блоки с прокидыванием связей.\n",
    "\n",
    "## V-Net\n",
    "\n",
    "- UNet для 3d-сегментации.\n",
    "\n",
    "## UNet++\n",
    "\n",
    "- Добавили промежуточные нейроны(больше полносвязности);\n",
    "- Ошибка - ошибка классификации и сегментации(совместный подсчет ошибок);"
   ]
  },
  {
   "cell_type": "markdown",
   "metadata": {},
   "source": [
    "### Другие методы\n",
    "\n",
    "- расширенные свертки(не 3х3, а 6х6, отмечая каждый 2-й пиксель, как свертку):\n",
    "  - Использовались в DeepLabv[1-3], где использовались еще и пирамидальные архитектуры, пробрасывания связей и тд\n",
    "\n",
    "- FastFCN:\n",
    "  - Свертки + разные dilation rates для сверток.\n",
    "\n"
   ]
  },
  {
   "cell_type": "markdown",
   "metadata": {},
   "source": [
    "## High-Res Representation\n",
    "\n",
    "- Разделение сети на несколько _путей_(на каждом разные размеры изображения) с полносвязными соединениями в местах разделения сети на описанные выше _пути_."
   ]
  },
  {
   "cell_type": "markdown",
   "metadata": {},
   "source": [
    "## Механизм attention\n",
    "\n",
    "- будет рассмотрен позже;\n",
    "- позволяет добиться лучшего качества сегментации."
   ]
  },
  {
   "cell_type": "markdown",
   "metadata": {},
   "source": [
    "## Instance segmentation\n",
    "\n",
    "- Каждый человек - отдельная маска(в семантической все люди бы отметились одной маской);\n",
    "- Можно сначала запустить детектор, а затем в каждой рамке сегментировать.\n",
    "\n",
    "### Mask R-CNN\n",
    "\n",
    "- Сохраняется CNN+RPN;\n",
    "- Вместо ROI Pooling используется ROI Align;\n",
    "- Затем генерация маски и классификация;\n",
    "- Ошибка - сумма 3-х ошибок(регрессия, классификация, сегментация).\n",
    "\n",
    "- ROI Align:\n",
    "  - Используется билинейная интерполяция(по осям для заполнения вырезанных окон);\n",
    "\n",
    "## PolarMask\n",
    "\n",
    "- каждому пикселю говорим о границе объекта:\n",
    "  1. Выбрали пиксель;\n",
    "  2. Провели лучи из этого пикселя;\n",
    "  3. Накладываем маску на лучи, сохраняем расстояния до границ;\n",
    "  4. Эти числа должна научиться предсказывать сеть(границы объекта).\n",
    "\n",
    "## TensorMask\n",
    "\n",
    "- для каждой точки предскаызваем маску объекта.\n",
    "\n"
   ]
  },
  {
   "cell_type": "markdown",
   "metadata": {},
   "source": []
  }
 ],
 "metadata": {
  "kernelspec": {
   "display_name": "Python 3.9.14 64-bit",
   "language": "python",
   "name": "python3"
  },
  "language_info": {
   "codemirror_mode": {
    "name": "ipython",
    "version": 3
   },
   "file_extension": ".py",
   "mimetype": "text/x-python",
   "name": "python",
   "nbconvert_exporter": "python",
   "pygments_lexer": "ipython3",
   "version": "3.9.14"
  },
  "orig_nbformat": 4,
  "vscode": {
   "interpreter": {
    "hash": "397704579725e15f5c7cb49fe5f0341eb7531c82d19f2c29d197e8b64ab5776b"
   }
  }
 },
 "nbformat": 4,
 "nbformat_minor": 2
}
